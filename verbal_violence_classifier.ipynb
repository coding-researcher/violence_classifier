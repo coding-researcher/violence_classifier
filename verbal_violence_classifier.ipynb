{
 "cells": [
  {
   "cell_type": "code",
   "execution_count": 1,
   "metadata": {
    "collapsed": false
   },
   "outputs": [],
   "source": [
    "import sys\n",
    "import csv\n",
    "from sklearn.cross_validation import KFold\n",
    "from sklearn.feature_extraction.text import CountVectorizer\n",
    "from sklearn.linear_model import LogisticRegression\n",
    "from sklearn.metrics import accuracy_score\n",
    "from sklearn.metrics import f1_score\n",
    "from sklearn.metrics import roc_auc_score\n",
    "import pickle\n",
    "import re\n",
    "import numpy as np\n",
    "import math\n",
    "import matplotlib.pyplot as plt\n",
    "import collections\n",
    "import methods # my methods\n",
    "\n",
    "CSV_FILENAME = 'gamergate_tweets_coded.csv'"
   ]
  },
  {
   "cell_type": "code",
   "execution_count": 2,
   "metadata": {
    "collapsed": false
   },
   "outputs": [],
   "source": [
    "import random\n",
    "\n",
    "total = 900\n",
    "train_sample = 800        \n",
    "random_indices = random.sample(range(total), train_sample)\n",
    "# if you want to store the random indices you use for training, uncomment lines below \n",
    "#sorted_indices = sorted(random_indices)\n",
    "#pickle.dump(sorted_indices, open('random_indices.p', 'wb'))"
   ]
  },
  {
   "cell_type": "code",
   "execution_count": 3,
   "metadata": {
    "collapsed": false
   },
   "outputs": [],
   "source": [
    "coding_1 = []\n",
    "coding_2 = []\n",
    "coding_3 = []\n",
    "coding_4 = []\n",
    "coding_5 = []\n",
    "coding_6 = []\n",
    "coding_7 = []\n",
    "coding_8 = []\n",
    "coding_9 = []\n",
    "coding_10 = []\n",
    "coding_11 = []\n",
    "coding_12 = []\n",
    "coding_13 = []\n",
    "coding_14 = []"
   ]
  },
  {
   "cell_type": "markdown",
   "metadata": {},
   "source": [
    "[1 = 'Uncharacteristic,' 2 = 'Not Sure,' and 3 = 'Characteristic']\t"
   ]
  },
  {
   "cell_type": "code",
   "execution_count": 4,
   "metadata": {
    "collapsed": false
   },
   "outputs": [
    {
     "name": "stdout",
     "output_type": "stream",
     "text": [
      "Tweets and ratings read.\n"
     ]
    }
   ],
   "source": [
    "methods.read_tweets(CSV_FILENAME, coding_1, 'Answer.entry.1')\n",
    "methods.read_tweets(CSV_FILENAME, coding_2, 'Answer.entry.2')\n",
    "methods.read_tweets(CSV_FILENAME, coding_3, 'Answer.entry.3')\n",
    "methods.read_tweets(CSV_FILENAME, coding_4, 'Answer.entry.4')\n",
    "methods.read_tweets(CSV_FILENAME, coding_5, 'Answer.entry.5')\n",
    "methods.read_tweets(CSV_FILENAME, coding_6, 'Answer.entry.6')\n",
    "methods.read_tweets(CSV_FILENAME, coding_7, 'Answer.entry.7')\n",
    "methods.read_tweets(CSV_FILENAME, coding_8, 'Answer.entry.8')\n",
    "methods.read_tweets(CSV_FILENAME, coding_9, 'Answer.entry.9')\n",
    "methods.read_tweets(CSV_FILENAME, coding_10, 'Answer.entry.10')\n",
    "methods.read_tweets(CSV_FILENAME, coding_11, 'Answer.entry.11')\n",
    "methods.read_tweets(CSV_FILENAME, coding_12, 'Answer.entry.12')\n",
    "methods.read_tweets(CSV_FILENAME, coding_13, 'Answer.entry.13')\n",
    "methods.read_tweets(CSV_FILENAME, coding_14, 'Answer.entry.14')\n",
    "print('Tweets and ratings read.')"
   ]
  },
  {
   "cell_type": "markdown",
   "metadata": {},
   "source": [
    "Load random indices from disk to use the same training/testing sets used during development"
   ]
  },
  {
   "cell_type": "code",
   "execution_count": 5,
   "metadata": {
    "collapsed": true
   },
   "outputs": [],
   "source": [
    "sorted_indices = pickle.load(open('random_indices.p', 'rb'))"
   ]
  },
  {
   "cell_type": "markdown",
   "metadata": {},
   "source": [
    "# 1\n",
    "User threatens physical violence as a means of protecting the user's rights.\n",
    "- An example of such a threat might appear as follows: \"If they try to take away my guns/stop me from speaking my mind/tell me I can’t pray to [generic deity]/etcetera, then I’ll shoot them.\""
   ]
  },
  {
   "cell_type": "code",
   "execution_count": 10,
   "metadata": {
    "collapsed": false
   },
   "outputs": [
    {
     "name": "stdout",
     "output_type": "stream",
     "text": [
      "model 1:\n"
     ]
    }
   ],
   "source": [
    "print('model 1:')\n",
    "# commented out because no model could be trained.\n",
    "#methods.train_and_tweak_model(coding_1, sorted_indices, 1)"
   ]
  },
  {
   "cell_type": "markdown",
   "metadata": {},
   "source": [
    "# 2\n",
    "User threatens other people or groups of people with physical harm and/or sexual violence.\n",
    "\n",
    "- With no indication that the threats are a means to protect the user's rights. If it appears that a threat is made and that the threat is either (a) unprovoked or (b) not an attempt to protect the user's rights (i.e. right to bear arms, free-speech, religious freedom), mark this as 'Characteristic'."
   ]
  },
  {
   "cell_type": "code",
   "execution_count": 11,
   "metadata": {
    "collapsed": false
   },
   "outputs": [
    {
     "name": "stdout",
     "output_type": "stream",
     "text": [
      "model 2:\n"
     ]
    }
   ],
   "source": [
    "print('model 2:')\n",
    "# commented out because no model could be trained.\n",
    "#methods.train_and_tweak_model(coding_2, sorted_indices, 2)"
   ]
  },
  {
   "cell_type": "markdown",
   "metadata": {},
   "source": [
    "# 3\n",
    "User openly expresses disagreement.\n",
    "- Expressed disagreement can be with another person, a group of people, an institution, or an idea.  If you’re unsure whether a user is expressing disagreement, it might be helpful to follow the provided link and see if the tweet is part of a larger conversation.  If the link is dead and you’re unsure whether the user is expressing disagreement, please answer ‘Not Sure’\n",
    "- highest accuracy 60%"
   ]
  },
  {
   "cell_type": "code",
   "execution_count": 12,
   "metadata": {
    "collapsed": false
   },
   "outputs": [
    {
     "name": "stdout",
     "output_type": "stream",
     "text": [
      "model 3:\n",
      "average cross validation accuracy=0.5607\n",
      "\n",
      "1 0.560702180716\n",
      "2 0.599670346265\n",
      "3 0.498049242424\n",
      "4 0.515700595413\n",
      "5 0.520633160909\n",
      "6 0.515700595413\n",
      "7 0.518633160909\n",
      "8 0.497140151515\n",
      "9 0.540647211699\n",
      "10 0.534461837574\n",
      "11 0.520406880078\n",
      "12 0.497424938862\n",
      "13 0.494018247314\n",
      "14 0.499912773586\n",
      "15 0.548677117805\n",
      "16 0.496139099344\n",
      "17 0.550067230709\n",
      "18 0.493817091583\n",
      "19 0.531371564671\n",
      "20 0.525038430443\n",
      "21 0.527974471526\n",
      "22 0.494087538806\n",
      "23 0.489132748557\n",
      "24 0.551003723004\n"
     ]
    }
   ],
   "source": [
    "print('model 3:')\n",
    "methods.train_and_tweak_model(coding_3, sorted_indices, 3)"
   ]
  },
  {
   "cell_type": "markdown",
   "metadata": {
    "collapsed": false
   },
   "source": [
    "Highest accuracy for model 3 is config 2 with 60% accuracy."
   ]
  },
  {
   "cell_type": "markdown",
   "metadata": {},
   "source": [
    "# 4\n",
    "User shares personal opinions of people, groups, or institutions that the user disfavors.\n",
    "- If the onions being shared are negative in nature.  If you believe the opinion being shared was intended to be negative, please answer 'Characteristic'\n",
    "\n",
    "\n",
    " - highest accuracy: 59%"
   ]
  },
  {
   "cell_type": "code",
   "execution_count": 14,
   "metadata": {
    "collapsed": false
   },
   "outputs": [
    {
     "name": "stdout",
     "output_type": "stream",
     "text": [
      "model 4:\n",
      "average cross validation accuracy=0.5821\n",
      "\n",
      "1 0.582124013409\n",
      "2 0.594158415761\n",
      "3 0.504923565471\n",
      "4 0.543576942501\n",
      "5 0.527058255434\n",
      "6 0.543576942501\n",
      "7 0.527058255434\n",
      "8 0.504923565471\n",
      "9 0.558640494004\n",
      "10 0.560219251447\n",
      "11 0.552032131936\n",
      "12 0.524959295391\n",
      "13 0.517993412954\n",
      "14 0.558410509583\n",
      "15 0.509536885907\n",
      "16 0.556497244277\n",
      "17 0.513477428114\n",
      "18 0.518992982053\n",
      "19 0.562718661503\n",
      "20 0.573358161843\n",
      "21 0.558646914971\n",
      "22 0.544307282342\n",
      "23 0.539912773695\n",
      "24 0.570472154518\n"
     ]
    }
   ],
   "source": [
    "print('model 4:')\n",
    "methods.train_and_tweak_model(coding_4, sorted_indices, 4)"
   ]
  },
  {
   "cell_type": "markdown",
   "metadata": {},
   "source": [
    "Highest accuracy is config 2 with 59% accuracy."
   ]
  },
  {
   "cell_type": "markdown",
   "metadata": {},
   "source": [
    "# 5\n",
    "User engages in or attempts to start arguments with people, groups, or social movements that the user disagrees with.\n",
    "- If it is not obvious whether or not the user is expressing disagreement, it may be inferred by whether or not the user is engaging in an argument.  To determine whether the user is engaging in an argument, it might be helpful to follow the provided link and see if the tweet is part of a larger conversation.  To determine whether the user is trying to start an argument, consider whether the post seems intentionally inflammatory.  If the link is dead and you’re unsure how to respond to this item, you may answer ‘Not Sure’\n",
    "- highest accuracy 58%"
   ]
  },
  {
   "cell_type": "code",
   "execution_count": 15,
   "metadata": {
    "collapsed": false
   },
   "outputs": [
    {
     "name": "stdout",
     "output_type": "stream",
     "text": [
      "model 5:\n",
      "average cross validation accuracy=0.5800\n",
      "\n",
      "1 0.579954494043\n",
      "2 0.585529184058\n",
      "3 0.505519188666\n",
      "4 0.527296689737\n",
      "5 0.528579333812\n",
      "6 0.527296689737\n",
      "7 0.529360583812\n",
      "8 0.504626331523\n",
      "9 0.5578871037\n",
      "10 0.557597620893\n",
      "11 0.546570412779\n",
      "12 0.51750286862\n",
      "13 0.514211761654\n",
      "14 0.542223701699\n",
      "15 0.551374570294\n",
      "16 0.543223701699\n",
      "17 0.544618424115\n",
      "18 0.523291762492\n",
      "19 0.576276097231\n",
      "20 0.57368110549\n",
      "21 0.546866126902\n",
      "22 0.539134942684\n",
      "23 0.533990190624\n",
      "24 0.581998032714\n"
     ]
    }
   ],
   "source": [
    "print('model 5:')\n",
    "methods.train_and_tweak_model(coding_5, sorted_indices, 5)"
   ]
  },
  {
   "cell_type": "markdown",
   "metadata": {},
   "source": [
    "Highest accuracy is config 2 with 58.5%"
   ]
  },
  {
   "cell_type": "markdown",
   "metadata": {},
   "source": [
    "# 6\n",
    "User tweets potentially reputation damaging rumors about something else\n",
    "- If anything in the post seems libelous, answer this as 'Characteristic'."
   ]
  },
  {
   "cell_type": "code",
   "execution_count": 17,
   "metadata": {
    "collapsed": false
   },
   "outputs": [
    {
     "name": "stdout",
     "output_type": "stream",
     "text": [
      "model 6:\n"
     ]
    }
   ],
   "source": [
    "print('model 6:')\n",
    "# commented out because no model could be trained.\n",
    "#methods.train_and_tweak_model(coding_6, sorted_indices, 6)"
   ]
  },
  {
   "cell_type": "markdown",
   "metadata": {},
   "source": [
    "# 7\n",
    "User tweets non-physical threats or threatening reactions to or about someone.\n",
    "- This item concerns threats that are unrelated to bodily harm or sexual violence.  Qualifying threats include (but are not limited too) threatening to disclose another person's personally identifiable information, threatening someone with a lawsuit, and threatening to fire someone or to get someone fired."
   ]
  },
  {
   "cell_type": "code",
   "execution_count": 18,
   "metadata": {
    "collapsed": false
   },
   "outputs": [
    {
     "name": "stdout",
     "output_type": "stream",
     "text": [
      "model 7:\n"
     ]
    }
   ],
   "source": [
    "print('model 7:')\n",
    "# commented out because no model could be trained.\n",
    "#methods.train_and_tweak_model(coding_7, sorted_indices, 7)"
   ]
  },
  {
   "cell_type": "markdown",
   "metadata": {},
   "source": [
    "# 8\n",
    "User shares potentially embarrassing photos or videos of someone else.\n",
    "- Use your best judgment on this one.  If the post contains a link, check the link to see if it leads to potentially embarrassing material."
   ]
  },
  {
   "cell_type": "code",
   "execution_count": 19,
   "metadata": {
    "collapsed": false
   },
   "outputs": [
    {
     "name": "stdout",
     "output_type": "stream",
     "text": [
      "model 8:\n"
     ]
    }
   ],
   "source": [
    "print('model 8:')\n",
    "# commented out because no model could be trained.\n",
    "#methods.train_and_tweak_model(coding_8, sorted_indices, 8)"
   ]
  },
  {
   "cell_type": "markdown",
   "metadata": {},
   "source": [
    "# 9\n",
    "User shares someone else's personally identifiable information.\n",
    "- Examples of such personally identifiable information include (but are not limited to) drivers licenses, passports, home addresses, work addresses, email addresses, phone numbers, social security numbers, information about someone's children or significant other"
   ]
  },
  {
   "cell_type": "code",
   "execution_count": 20,
   "metadata": {
    "collapsed": false
   },
   "outputs": [
    {
     "name": "stdout",
     "output_type": "stream",
     "text": [
      "model 9:\n"
     ]
    }
   ],
   "source": [
    "print('model 9:')\n",
    "# commented out because no model could be trained.\n",
    "#methods.train_and_tweak_model(coding_9, sorted_indices, 9)"
   ]
  },
  {
   "cell_type": "markdown",
   "metadata": {},
   "source": [
    "# 10\n",
    "User attacks the credibility of another person or group of people in an attempt to invalidate the other party's stance or argument.\n",
    "\n",
    "- highest accuracy 54%"
   ]
  },
  {
   "cell_type": "code",
   "execution_count": 21,
   "metadata": {
    "collapsed": false
   },
   "outputs": [
    {
     "name": "stdout",
     "output_type": "stream",
     "text": [
      "model 10:\n",
      "average cross validation accuracy=0.5425\n",
      "\n",
      "1 0.542538689334\n",
      "2 0.544283994592\n",
      "3 0.494315745044\n",
      "4 0.491423707504\n",
      "5 0.505846826428\n",
      "6 0.491423707504\n",
      "7 0.505846826428\n",
      "8 0.494315745044\n",
      "9 0.507182734892\n",
      "10 0.507685180042\n",
      "11 0.508849970787\n",
      "12 0.492726842144\n",
      "13 0.494222189951\n",
      "14 0.496671084632\n",
      "15 0.513310897954\n",
      "16 0.496671084632\n",
      "17 0.510523138302\n",
      "18 0.494222189951\n",
      "19 0.497178060814\n",
      "20 0.497507715687\n",
      "21 0.482306146984\n",
      "22 0.494562832914\n",
      "23 0.495981414333\n",
      "24 0.496036289035\n"
     ]
    }
   ],
   "source": [
    "print('model 10:')\n",
    "methods.train_and_tweak_model(coding_10, sorted_indices, 10)"
   ]
  },
  {
   "cell_type": "markdown",
   "metadata": {},
   "source": [
    "Highest accuracy is config 2 with 54%."
   ]
  },
  {
   "cell_type": "markdown",
   "metadata": {},
   "source": [
    "# 11\n",
    "User writes retaliatory comments in response to another person or group's words or actions\n",
    "- To respond to this item, it may be helpful to follow the provided link to find out whether this tweet is part of a conversation or thread. \n",
    "- highest accuracy 57.5%"
   ]
  },
  {
   "cell_type": "code",
   "execution_count": 22,
   "metadata": {
    "collapsed": false
   },
   "outputs": [
    {
     "name": "stdout",
     "output_type": "stream",
     "text": [
      "model 11:\n",
      "average cross validation accuracy=0.5606\n",
      "\n",
      "1 0.560598159287\n",
      "2 0.575634557389\n",
      "3 0.509470551378\n",
      "4 0.498812133618\n",
      "5 0.53544563304\n",
      "6 0.498812133618\n",
      "7 0.53294563304\n",
      "8 0.508637218045\n",
      "9 0.525883646715\n",
      "10 0.525486369077\n",
      "11 0.515324147422\n",
      "12 0.506646903275\n",
      "13 0.50880764411\n",
      "14 0.505539403255\n",
      "15 0.546604208001\n",
      "16 0.507206069922\n",
      "17 0.549633307367\n",
      "18 0.515915487248\n",
      "19 0.517156952453\n",
      "20 0.526218536062\n",
      "21 0.520989316569\n",
      "22 0.510610292442\n",
      "23 0.504962766765\n",
      "24 0.522047701443\n"
     ]
    }
   ],
   "source": [
    "print('model 11:')\n",
    "methods.train_and_tweak_model(coding_11, sorted_indices, 11)"
   ]
  },
  {
   "cell_type": "markdown",
   "metadata": {},
   "source": [
    "Highest accuracy is config 2 with 57.5%"
   ]
  },
  {
   "cell_type": "markdown",
   "metadata": {},
   "source": [
    "# 12\n",
    "User expresses feelings that user or a group that user belongs to is being treated unfairly\n",
    "- Just because the user expresses disagreement does not mean the user is expressing feelings of unfair treatment.  Look for words like \"low blow,\" \"unfair,\" \"unjust,\" \"biased,\" \"discriminatory,\" or any variations thereof.\n",
    "- highest accuracy 51%"
   ]
  },
  {
   "cell_type": "code",
   "execution_count": 23,
   "metadata": {
    "collapsed": false
   },
   "outputs": [
    {
     "name": "stdout",
     "output_type": "stream",
     "text": [
      "model 12:\n",
      "average cross validation accuracy=0.5108\n",
      "\n",
      "1 0.510833576027\n",
      "2 0.499400396656\n",
      "3 0.50949168091\n",
      "4 0.50949168091\n",
      "5 0.470717695017\n",
      "6 0.50949168091\n",
      "7 0.470717695017\n",
      "8 0.50949168091\n",
      "9 0.484758441065\n",
      "10 0.482073272479\n",
      "11 0.485490507718\n",
      "12 0.50949168091\n",
      "13 0.50949168091\n",
      "14 0.50949168091\n",
      "15 0.486577603049\n",
      "16 0.50949168091\n",
      "17 0.483229702151\n",
      "18 0.50949168091\n",
      "19 0.491355032923\n",
      "20 0.490645601974\n",
      "21 0.487289395858\n",
      "22 0.50949168091\n",
      "23 0.50949168091\n",
      "24 0.50449168091\n"
     ]
    }
   ],
   "source": [
    "print('model 12:')\n",
    "methods.train_and_tweak_model(coding_12, sorted_indices, 12)"
   ]
  },
  {
   "cell_type": "markdown",
   "metadata": {},
   "source": [
    "Several configs performed with 51% accuracy (3, 4, 6, 8, 12...)"
   ]
  },
  {
   "cell_type": "markdown",
   "metadata": {},
   "source": [
    "# 13\n",
    "User expresses feelings of being misrepresented and/or under-represented by other people, groups of people, the media, etcetera.\n",
    "- By other people, groups of people, the media, etc.  Look for whether or not the user is disagreeing with how other are representing the user.  If the user is responding to and disagreeing with a statement that casts the user in a certain light, mark this as 'Characteristic'.\n",
    "\n",
    "\n",
    " - highest accuracy: 60%"
   ]
  },
  {
   "cell_type": "code",
   "execution_count": 24,
   "metadata": {
    "collapsed": false
   },
   "outputs": [
    {
     "name": "stdout",
     "output_type": "stream",
     "text": [
      "model 13:\n",
      "average cross validation accuracy=0.5778\n",
      "\n",
      "1 0.57777165155\n",
      "2 0.602068777115\n",
      "3 0.529448536538\n",
      "4 0.533993991084\n",
      "5 0.525580371556\n",
      "6 0.533993991084\n",
      "7 0.524895440049\n",
      "8 0.529448536538\n",
      "9 0.536048999514\n",
      "10 0.535073393984\n",
      "11 0.530157955711\n",
      "12 0.533993991084\n",
      "13 0.530963688053\n",
      "14 0.531926406926\n",
      "15 0.563371300014\n",
      "16 0.531926406926\n",
      "17 0.573119992226\n",
      "18 0.530963688053\n",
      "19 0.557889015799\n",
      "20 0.552732693687\n",
      "21 0.553290831201\n",
      "22 0.530963688053\n",
      "23 0.530963688053\n",
      "24 0.528138528139\n"
     ]
    }
   ],
   "source": [
    "print('model 13:')\n",
    "methods.train_and_tweak_model(coding_13, sorted_indices, 13)"
   ]
  },
  {
   "cell_type": "markdown",
   "metadata": {},
   "source": [
    "Highest accuracy is config 2 with 60%"
   ]
  },
  {
   "cell_type": "markdown",
   "metadata": {},
   "source": [
    "# 14\n",
    "User defends user's self or user's image, or the image of a group that the user belongs to or associates with.\n",
    "- Regardless of whether or not one or one's image has actually been questioned, trivialized, or threatened.  For example, if the user asserts that the user or a group the user belongs to is something or someway, thus reinforcing user's perefered self/group-image, mark this as 'Characteristic'. You may be able to infer belongingness or association from the hashtags used, if not from the text alone\n",
    " \n",
    " \n",
    " - highest accuracy: 58%"
   ]
  },
  {
   "cell_type": "code",
   "execution_count": 25,
   "metadata": {
    "collapsed": false
   },
   "outputs": [
    {
     "name": "stdout",
     "output_type": "stream",
     "text": [
      "model 14:\n",
      "average cross validation accuracy=0.5572\n",
      "\n",
      "1 0.557150812887\n",
      "2 0.563363162819\n",
      "3 0.526015869236\n",
      "4 0.530435555812\n",
      "5 0.503058811131\n",
      "6 0.530435555812\n",
      "7 0.503743742638\n",
      "8 0.525222218442\n",
      "9 0.57790165722\n",
      "10 0.572910675979\n",
      "11 0.565006932761\n",
      "12 0.527761900982\n",
      "13 0.523074692765\n",
      "14 0.527402820777\n",
      "15 0.571369136155\n",
      "16 0.527402820777\n",
      "17 0.560531588959\n",
      "18 0.523074692765\n",
      "19 0.565935381733\n",
      "20 0.563414916311\n",
      "21 0.575994140588\n",
      "22 0.522281041971\n",
      "23 0.522281041971\n",
      "24 0.534004748289\n"
     ]
    }
   ],
   "source": [
    "print('model 14:')\n",
    "methods.train_and_tweak_model(coding_14, sorted_indices, 14)"
   ]
  },
  {
   "cell_type": "markdown",
   "metadata": {
    "collapsed": true
   },
   "source": [
    "Hightest accuracy is config 9 with 58%"
   ]
  },
  {
   "cell_type": "code",
   "execution_count": null,
   "metadata": {
    "collapsed": true
   },
   "outputs": [],
   "source": []
  }
 ],
 "metadata": {
  "kernelspec": {
   "display_name": "Python 3",
   "language": "python",
   "name": "python3"
  },
  "language_info": {
   "codemirror_mode": {
    "name": "ipython",
    "version": 3
   },
   "file_extension": ".py",
   "mimetype": "text/x-python",
   "name": "python",
   "nbconvert_exporter": "python",
   "pygments_lexer": "ipython3",
   "version": "3.5.1"
  }
 },
 "nbformat": 4,
 "nbformat_minor": 0
}
